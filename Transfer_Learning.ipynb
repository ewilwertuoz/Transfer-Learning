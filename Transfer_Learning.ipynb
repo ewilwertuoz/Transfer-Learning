{
  "nbformat": 4,
  "nbformat_minor": 0,
  "metadata": {
    "colab": {
      "provenance": [],
      "collapsed_sections": [
        "EXFqYd26_den"
      ],
      "include_colab_link": true
    },
    "kernelspec": {
      "name": "python3",
      "display_name": "Python 3"
    },
    "language_info": {
      "name": "python"
    },
    "accelerator": "GPU"
  },
  "cells": [
    {
      "cell_type": "markdown",
      "metadata": {
        "id": "view-in-github",
        "colab_type": "text"
      },
      "source": [
        "<a href=\"https://colab.research.google.com/github/ewilwertuoz/Transfer-Learning/blob/main/Transfer_Learning.ipynb\" target=\"_parent\"><img src=\"https://colab.research.google.com/assets/colab-badge.svg\" alt=\"Open In Colab\"/></a>"
      ]
    },
    {
      "cell_type": "markdown",
      "source": [
        "# Transfer Learning: дообучение сети."
      ],
      "metadata": {
        "id": "B4eTJ1F7Se9a"
      }
    },
    {
      "cell_type": "code",
      "metadata": {
        "id": "aAwBR6lugZtJ"
      },
      "source": [
        "import numpy as np\n",
        "import matplotlib.pyplot as plt\n",
        "\n",
        "import os\n",
        "import copy\n",
        "import time\n",
        "from PIL import Image\n",
        "from tqdm import tqdm_notebook\n",
        "\n",
        "import torch\n",
        "import torch.nn as nn\n",
        "import torch.optim as optim\n",
        "\n",
        "import torchvision\n",
        "from torchvision import datasets, models, transforms"
      ],
      "execution_count": null,
      "outputs": []
    },
    {
      "cell_type": "markdown",
      "metadata": {
        "id": "a1ElFRymxh_j"
      },
      "source": [
        "## Загрузка предобученной сети"
      ]
    },
    {
      "cell_type": "markdown",
      "metadata": {
        "id": "l19eHm36rEBi"
      },
      "source": [
        "Загружаем предобученный resnet из репозитория pytorch:"
      ]
    },
    {
      "cell_type": "code",
      "metadata": {
        "id": "edVUf_c4nKVY"
      },
      "source": [
        "# модель resnet-18\n",
        "model = models.resnet18(pretrained=True)\n",
        "model"
      ],
      "execution_count": null,
      "outputs": []
    },
    {
      "cell_type": "code",
      "source": [
        "from google.colab import drive\n",
        "drive.mount('/content/drive')"
      ],
      "metadata": {
        "id": "4biB6INGBp47"
      },
      "execution_count": null,
      "outputs": []
    },
    {
      "cell_type": "code",
      "source": [
        "resnet_transforms = transforms.Compose([\n",
        "        transforms.Resize(256), # размер каждой картинки будет приведен к 256*256\n",
        "        transforms.CenterCrop(224), # у картинки будет вырезан центральный кусок размера 224*224\n",
        "        transforms.ToTensor(), # картинка из питоновского массива переводится в формат torch.Tensor\n",
        "        transforms.Normalize([0.485, 0.456, 0.406], [0.229, 0.224, 0.225]) # значения пикселей картинки нормализуются\n",
        "    ])"
      ],
      "metadata": {
        "id": "Uj6c1wHbH50I"
      },
      "execution_count": null,
      "outputs": []
    },
    {
      "cell_type": "code",
      "metadata": {
        "id": "R_l9AWxP24Cc"
      },
      "source": [
        "train_data = datasets.ImageFolder('', transform=resnet_transforms)\n",
        "val_data = datasets.ImageFolder('', transform=resnet_transforms)\n",
        "test_data = datasets.ImageFolder('', transform=resnet_transforms)"
      ],
      "execution_count": null,
      "outputs": []
    },
    {
      "cell_type": "code",
      "metadata": {
        "id": "KxH7Vgkg27KH"
      },
      "source": [
        "train_loader = torch.utils.data.DataLoader(train_data, batch_size=64, shuffle=True)\n",
        "val_loader = torch.utils.data.DataLoader(val_data, batch_size=64, shuffle=False)\n",
        "test_loader = torch.utils.data.DataLoader(test_data, batch_size=64, shuffle=False)"
      ],
      "execution_count": null,
      "outputs": []
    },
    {
      "cell_type": "markdown",
      "metadata": {
        "id": "iMLScW5J9376"
      },
      "source": [
        "### Заморозка весов и замена последнего слоя"
      ]
    },
    {
      "cell_type": "code",
      "metadata": {
        "id": "CamSaaIU7U_y"
      },
      "source": [
        "model = models.resnet18(pretrained=True)\n",
        "model.fc = nn.Linear(512, 70)"
      ],
      "execution_count": null,
      "outputs": []
    },
    {
      "cell_type": "markdown",
      "metadata": {
        "id": "_R-TYkvj8N4m"
      },
      "source": [
        "Заморозим все сверточные слои:"
      ]
    },
    {
      "cell_type": "code",
      "metadata": {
        "id": "0c4lIzsi8KfQ"
      },
      "source": [
        "for i, layer in enumerate(model.children()):\n",
        "  if i < 9:\n",
        "    for param in layer.parameters():\n",
        "      param.requires_grad = False"
      ],
      "execution_count": null,
      "outputs": []
    },
    {
      "cell_type": "markdown",
      "source": [
        "Перенесем нашу нейросеть на GPU, если GPU доступен:"
      ],
      "metadata": {
        "id": "2wtXDxTEWtZM"
      }
    },
    {
      "cell_type": "code",
      "source": [
        "device = torch.device(\"cuda\" if torch.cuda.is_available() else \"cpu\")"
      ],
      "metadata": {
        "id": "Xu9YF69uWplb"
      },
      "execution_count": null,
      "outputs": []
    },
    {
      "cell_type": "code",
      "source": [
        "device"
      ],
      "metadata": {
        "id": "7au9qBuwWqJ4"
      },
      "execution_count": null,
      "outputs": []
    },
    {
      "cell_type": "code",
      "metadata": {
        "id": "mRJ0NGSk7l4N"
      },
      "source": [
        "model = model.to(device)"
      ],
      "execution_count": null,
      "outputs": []
    },
    {
      "cell_type": "markdown",
      "metadata": {
        "id": "JA_Q059e98vy"
      },
      "source": [
        "### Обучение сети"
      ]
    },
    {
      "cell_type": "code",
      "source": [
        "# выбираем функцию потерь\n",
        "loss_fn = torch.nn.CrossEntropyLoss()\n",
        "\n",
        "# выбираем алгоритм оптимизации и learning_rate\n",
        "learning_rate = 1e-3\n",
        "optimizer = torch.optim.Adam(model.parameters(), lr=learning_rate)"
      ],
      "metadata": {
        "id": "4RpO-NJeGazx"
      },
      "execution_count": null,
      "outputs": []
    },
    {
      "cell_type": "markdown",
      "source": [
        "Импортируем нужные модули и пишем нужные команды для Tensorboard:"
      ],
      "metadata": {
        "id": "yX6cJOR9W977"
      }
    },
    {
      "cell_type": "code",
      "source": [
        "import os\n",
        "\n",
        "if not os.path.exists('logs'):\n",
        "    os.mkdir('logs')\n",
        "\n",
        "%load_ext tensorboard"
      ],
      "metadata": {
        "id": "MPtZeI_tW9iw"
      },
      "execution_count": null,
      "outputs": []
    },
    {
      "cell_type": "code",
      "source": [
        "from torch.utils.tensorboard import SummaryWriter\n",
        "writer = SummaryWriter(\"logs\")"
      ],
      "metadata": {
        "id": "2epHKgcEXE9R"
      },
      "execution_count": null,
      "outputs": []
    },
    {
      "cell_type": "code",
      "source": [
        "%tensorboard --logdir=./logs"
      ],
      "metadata": {
        "id": "6raCDgb5XGz9"
      },
      "execution_count": null,
      "outputs": []
    },
    {
      "cell_type": "markdown",
      "source": [
        "Функция обучения сети:"
      ],
      "metadata": {
        "id": "lOLvxz3UKVcu"
      }
    },
    {
      "cell_type": "code",
      "metadata": {
        "id": "Hqe8RWsE9mz0"
      },
      "source": [
        "def evaluate(model, dataloader, loss_fn):\n",
        "\n",
        "    losses = []\n",
        "\n",
        "    num_correct = 0\n",
        "    num_elements = len(dataloader)\n",
        "\n",
        "    for i, batch in enumerate(dataloader):\n",
        "\n",
        "        # так получаем текущий батч\n",
        "        X_batch, y_batch = batch\n",
        "\n",
        "        with torch.no_grad():\n",
        "            X_batch = X_batch.to(device)\n",
        "            logits = model(X_batch)\n",
        "\n",
        "            y_batch = y_batch.to(device)\n",
        "            loss = loss_fn(logits, y_batch)\n",
        "            losses.append(loss.item())\n",
        "\n",
        "            y_pred = torch.argmax(logits, dim=1)\n",
        "\n",
        "            num_correct += torch.sum(y_pred == y_batch)\n",
        "\n",
        "    accuracy = num_correct / num_elements\n",
        "\n",
        "    return accuracy, np.mean(losses)\n",
        "\n",
        "def train(model, loss_fn, optimizer, n_epoch=3):\n",
        "\n",
        "    num_iter = 0\n",
        "\n",
        "    # цикл обучения сети\n",
        "    for epoch in range(n_epoch):\n",
        "\n",
        "        print(\"Epoch:\", epoch)\n",
        "\n",
        "        model.train(True)\n",
        "\n",
        "        for i, batch in enumerate(train_loader):\n",
        "            # так получаем текущий батч\n",
        "            X_batch, y_batch = batch\n",
        "\n",
        "            # forward pass (получение ответов на батч картинок)\n",
        "            X_batch = X_batch.to(device)\n",
        "            logits = model(X_batch)\n",
        "\n",
        "            # вычисление лосса от выданных сетью ответов и правильных ответов на батч\n",
        "            y_batch = y_batch.to(device)\n",
        "            loss = loss_fn(logits, y_batch)\n",
        "\n",
        "\n",
        "            loss.backward() # backpropagation (вычисление градиентов)\n",
        "            optimizer.step() # обновление весов сети\n",
        "            optimizer.zero_grad() # обнуляем веса\n",
        "\n",
        "            #########################\n",
        "            # Логирование результатов\n",
        "            num_iter += 1\n",
        "            writer.add_scalar('Loss/train', loss.item(), num_iter)\n",
        "\n",
        "            # вычислим accuracy на текущем train батче\n",
        "            model_answers = torch.argmax(logits, dim=1)\n",
        "            train_accuracy = torch.sum(y_batch == model_answers) / len(y_batch)\n",
        "            writer.add_scalar('Accuracy/train', train_accuracy, num_iter)\n",
        "            #########################\n",
        "\n",
        "        # после каждой эпохи получаем метрику качества на валидационной выборке\n",
        "        model.train(False)\n",
        "\n",
        "        val_accuracy, val_loss = evaluate(model, val_loader, loss_fn=loss_fn)\n",
        "\n",
        "        writer.add_scalar('Loss/val', val_loss.item(), num_iter)\n",
        "        writer.add_scalar('Accuracy/val', val_accuracy, num_iter)\n",
        "\n",
        "\n",
        "    return model"
      ],
      "execution_count": null,
      "outputs": []
    },
    {
      "cell_type": "markdown",
      "source": [
        "Обучаем сеть:"
      ],
      "metadata": {
        "id": "0ODAsIDWKXmR"
      }
    },
    {
      "cell_type": "code",
      "metadata": {
        "id": "UAHDSsGz9-sf"
      },
      "source": [
        "model = train(model, loss_fn, optimizer, n_epoch=3)"
      ],
      "execution_count": null,
      "outputs": []
    },
    {
      "cell_type": "markdown",
      "metadata": {
        "id": "yzqiphxeALP3"
      },
      "source": [
        "Проверим метрику accuracy на тренировочной и тестовой выборках:"
      ]
    },
    {
      "cell_type": "code",
      "metadata": {
        "id": "pq09ou94--1w"
      },
      "source": [
        "train_accuracy, _ = evaluate(model, train_loader);\n",
        "print('Train accuracy is', train_accuracy)"
      ],
      "execution_count": null,
      "outputs": []
    },
    {
      "cell_type": "code",
      "source": [
        "test_accuracy, _ = evaluate(model, test_loader);\n",
        "print('Test accuracy is', test_accuracy)"
      ],
      "metadata": {
        "id": "F9Yoqxr1GtSE"
      },
      "execution_count": null,
      "outputs": []
    },
    {
      "cell_type": "markdown",
      "source": [
        "Загрузка графиков обучения на Tensorboard dev:"
      ],
      "metadata": {
        "id": "mVi-U8PGXSEY"
      }
    },
    {
      "cell_type": "code",
      "source": [
        "# !tensorboard dev upload --logdir=./logs \\\n",
        "# --name \"My latest experiment\" \\\n",
        "# --description \"Simple comparison of several hyperparameters\""
      ],
      "metadata": {
        "id": "GWXdCxs2XRBU"
      },
      "execution_count": null,
      "outputs": []
    },
    {
      "cell_type": "markdown",
      "metadata": {
        "id": "EXFqYd26_den"
      },
      "source": [
        "## Сохранение модели"
      ]
    },
    {
      "cell_type": "markdown",
      "metadata": {
        "id": "SKRHh56s_r86"
      },
      "source": [
        "Сохранение модели:"
      ]
    },
    {
      "cell_type": "code",
      "metadata": {
        "id": "xDsUb79u_CXZ"
      },
      "source": [
        "torch.save(model, 'model.pt')"
      ],
      "execution_count": null,
      "outputs": []
    },
    {
      "cell_type": "markdown",
      "metadata": {
        "id": "Graj2NdZ_uGv"
      },
      "source": [
        "Загрузка модели из сохраненного чекпоинта:"
      ]
    },
    {
      "cell_type": "code",
      "metadata": {
        "id": "BZOzex2b_cTg"
      },
      "source": [
        "model_new = torch.load('model.pt')"
      ],
      "execution_count": null,
      "outputs": []
    },
    {
      "cell_type": "markdown",
      "source": [
        "Проверим, что модель загрузилась и что она точно та же, что мы тестировали выше:"
      ],
      "metadata": {
        "id": "EAD-ccSsHEUV"
      }
    },
    {
      "cell_type": "markdown",
      "source": [
        "Загруженную модель можно, например, дообучить еще несколько эпох:"
      ],
      "metadata": {
        "id": "25hv4PkzG-GJ"
      }
    },
    {
      "cell_type": "code",
      "metadata": {
        "id": "kLD1Kyw4_16i"
      },
      "source": [
        "model_new, train_losses, val_losses, val_accuracies = train(model_new, n_epoch=5)"
      ],
      "execution_count": null,
      "outputs": []
    }
  ]
}